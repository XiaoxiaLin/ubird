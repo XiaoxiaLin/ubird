{
 "cells": [
  {
   "cell_type": "code",
   "execution_count": 172,
   "metadata": {
    "collapsed": false
   },
   "outputs": [
    {
     "name": "stdout",
     "output_type": "stream",
     "text": [
      "Once deleted, variables cannot be recovered. Proceed (y/[n])? y\n"
     ]
    }
   ],
   "source": [
    "reset\n"
   ]
  },
  {
   "cell_type": "code",
   "execution_count": 173,
   "metadata": {
    "collapsed": false
   },
   "outputs": [
    {
     "data": {
      "text/html": [
       "\n",
       "    <div class=\"bk-root\">\n",
       "        <a href=\"http://bokeh.pydata.org\" target=\"_blank\" class=\"bk-logo bk-logo-small bk-logo-notebook\"></a>\n",
       "        <span id=\"1aa39057-d38b-4aca-a6db-027e596bd7ff\">Loading BokehJS ...</span>\n",
       "    </div>"
      ]
     },
     "metadata": {},
     "output_type": "display_data"
    },
    {
     "data": {
      "application/javascript": [
       "\n",
       "(function(global) {\n",
       "  function now() {\n",
       "    return new Date();\n",
       "  }\n",
       "\n",
       "  var force = \"1\";\n",
       "\n",
       "  if (typeof (window._bokeh_onload_callbacks) === \"undefined\" || force !== \"\") {\n",
       "    window._bokeh_onload_callbacks = [];\n",
       "    window._bokeh_is_loading = undefined;\n",
       "  }\n",
       "\n",
       "\n",
       "  \n",
       "  if (typeof (window._bokeh_timeout) === \"undefined\" || force !== \"\") {\n",
       "    window._bokeh_timeout = Date.now() + 5000;\n",
       "    window._bokeh_failed_load = false;\n",
       "  }\n",
       "\n",
       "  var NB_LOAD_WARNING = {'data': {'text/html':\n",
       "     \"<div style='background-color: #fdd'>\\n\"+\n",
       "     \"<p>\\n\"+\n",
       "     \"BokehJS does not appear to have successfully loaded. If loading BokehJS from CDN, this \\n\"+\n",
       "     \"may be due to a slow or bad network connection. Possible fixes:\\n\"+\n",
       "     \"</p>\\n\"+\n",
       "     \"<ul>\\n\"+\n",
       "     \"<li>re-rerun `output_notebook()` to attempt to load from CDN again, or</li>\\n\"+\n",
       "     \"<li>use INLINE resources instead, as so:</li>\\n\"+\n",
       "     \"</ul>\\n\"+\n",
       "     \"<code>\\n\"+\n",
       "     \"from bokeh.resources import INLINE\\n\"+\n",
       "     \"output_notebook(resources=INLINE)\\n\"+\n",
       "     \"</code>\\n\"+\n",
       "     \"</div>\"}};\n",
       "\n",
       "  function display_loaded() {\n",
       "    if (window.Bokeh !== undefined) {\n",
       "      Bokeh.$(\"#1aa39057-d38b-4aca-a6db-027e596bd7ff\").text(\"BokehJS successfully loaded.\");\n",
       "    } else if (Date.now() < window._bokeh_timeout) {\n",
       "      setTimeout(display_loaded, 100)\n",
       "    }\n",
       "  }\n",
       "\n",
       "  function run_callbacks() {\n",
       "    window._bokeh_onload_callbacks.forEach(function(callback) { callback() });\n",
       "    delete window._bokeh_onload_callbacks\n",
       "    console.info(\"Bokeh: all callbacks have finished\");\n",
       "  }\n",
       "\n",
       "  function load_libs(js_urls, callback) {\n",
       "    window._bokeh_onload_callbacks.push(callback);\n",
       "    if (window._bokeh_is_loading > 0) {\n",
       "      console.log(\"Bokeh: BokehJS is being loaded, scheduling callback at\", now());\n",
       "      return null;\n",
       "    }\n",
       "    if (js_urls == null || js_urls.length === 0) {\n",
       "      run_callbacks();\n",
       "      return null;\n",
       "    }\n",
       "    console.log(\"Bokeh: BokehJS not loaded, scheduling load and callback at\", now());\n",
       "    window._bokeh_is_loading = js_urls.length;\n",
       "    for (var i = 0; i < js_urls.length; i++) {\n",
       "      var url = js_urls[i];\n",
       "      var s = document.createElement('script');\n",
       "      s.src = url;\n",
       "      s.async = false;\n",
       "      s.onreadystatechange = s.onload = function() {\n",
       "        window._bokeh_is_loading--;\n",
       "        if (window._bokeh_is_loading === 0) {\n",
       "          console.log(\"Bokeh: all BokehJS libraries loaded\");\n",
       "          run_callbacks()\n",
       "        }\n",
       "      };\n",
       "      s.onerror = function() {\n",
       "        console.warn(\"failed to load library \" + url);\n",
       "      };\n",
       "      console.log(\"Bokeh: injecting script tag for BokehJS library: \", url);\n",
       "      document.getElementsByTagName(\"head\")[0].appendChild(s);\n",
       "    }\n",
       "  };var element = document.getElementById(\"1aa39057-d38b-4aca-a6db-027e596bd7ff\");\n",
       "  if (element == null) {\n",
       "    console.log(\"Bokeh: ERROR: autoload.js configured with elementid '1aa39057-d38b-4aca-a6db-027e596bd7ff' but no matching script tag was found. \")\n",
       "    return false;\n",
       "  }\n",
       "\n",
       "  var js_urls = ['https://cdn.pydata.org/bokeh/release/bokeh-0.12.2.min.js', 'https://cdn.pydata.org/bokeh/release/bokeh-widgets-0.12.2.min.js', 'https://cdn.pydata.org/bokeh/release/bokeh-compiler-0.12.2.min.js'];\n",
       "\n",
       "  var inline_js = [\n",
       "    function(Bokeh) {\n",
       "      Bokeh.set_log_level(\"info\");\n",
       "    },\n",
       "    \n",
       "    function(Bokeh) {\n",
       "      \n",
       "      Bokeh.$(\"#1aa39057-d38b-4aca-a6db-027e596bd7ff\").text(\"BokehJS is loading...\");\n",
       "    },\n",
       "    function(Bokeh) {\n",
       "      console.log(\"Bokeh: injecting CSS: https://cdn.pydata.org/bokeh/release/bokeh-0.12.2.min.css\");\n",
       "      Bokeh.embed.inject_css(\"https://cdn.pydata.org/bokeh/release/bokeh-0.12.2.min.css\");\n",
       "      console.log(\"Bokeh: injecting CSS: https://cdn.pydata.org/bokeh/release/bokeh-widgets-0.12.2.min.css\");\n",
       "      Bokeh.embed.inject_css(\"https://cdn.pydata.org/bokeh/release/bokeh-widgets-0.12.2.min.css\");\n",
       "    }\n",
       "  ];\n",
       "\n",
       "  function run_inline_js() {\n",
       "    \n",
       "    if ((window.Bokeh !== undefined) || (force === \"1\")) {\n",
       "      for (var i = 0; i < inline_js.length; i++) {\n",
       "        inline_js[i](window.Bokeh);\n",
       "      }if (force === \"1\") {\n",
       "        display_loaded();\n",
       "      }} else if (Date.now() < window._bokeh_timeout) {\n",
       "      setTimeout(run_inline_js, 100);\n",
       "    } else if (!window._bokeh_failed_load) {\n",
       "      console.log(\"Bokeh: BokehJS failed to load within specified timeout.\");\n",
       "      window._bokeh_failed_load = true;\n",
       "    } else if (!force) {\n",
       "      var cell = $(\"#1aa39057-d38b-4aca-a6db-027e596bd7ff\").parents('.cell').data().cell;\n",
       "      cell.output_area.append_execute_result(NB_LOAD_WARNING)\n",
       "    }\n",
       "\n",
       "  }\n",
       "\n",
       "  if (window._bokeh_is_loading === 0) {\n",
       "    console.log(\"Bokeh: BokehJS loaded, going straight to plotting\");\n",
       "    run_inline_js();\n",
       "  } else {\n",
       "    load_libs(js_urls, function() {\n",
       "      console.log(\"Bokeh: BokehJS plotting callback run at\", now());\n",
       "      run_inline_js();\n",
       "    });\n",
       "  }\n",
       "}(this));"
      ]
     },
     "metadata": {},
     "output_type": "display_data"
    }
   ],
   "source": [
    "import pandas as pd\n",
    "import numpy as np\n",
    "import seaborn as sns\n",
    "from matplotlib import pyplot as plt\n",
    "from bokeh.plotting import figure, output_notebook, show\n",
    "from bokeh.charts import HeatMap, output_file, show\n",
    "from bokeh.models import NumeralTickFormatter\n",
    "from bokeh.sampledata.autompg import autompg\n",
    "from bokeh.charts import HeatMap, bins, output_file, show\n",
    "from bokeh.models import HoverTool, BoxSelectTool\n",
    "from bokeh.io import output_file, show, vplot\n",
    "from bokeh import mpl\n",
    "from bokeh.embed import components\n",
    "%matplotlib inline\n",
    "output_notebook()"
   ]
  },
  {
   "cell_type": "code",
   "execution_count": 174,
   "metadata": {
    "collapsed": true
   },
   "outputs": [],
   "source": [
    "def extract_unique_mutations(df):\n",
    "    df.columns = ['mutations', 'barcodes', 'brightness', 'std']\n",
    "    df.mutations.fillna('', inplace=True)\n",
    "    unique_mutations = set(':'.join(df.mutations.values).split(':'))\n",
    "    unique_mutations.remove('')\n",
    "    df['mut_number'] = df.mutations.apply(lambda x: x.count(':') + 1)\n",
    "    return unique_mutations"
   ]
  },
  {
   "cell_type": "markdown",
   "metadata": {},
   "source": [
    "# Barcodes distribution"
   ]
  },
  {
   "cell_type": "code",
   "execution_count": 175,
   "metadata": {
    "collapsed": false
   },
   "outputs": [],
   "source": [
    "aa = pd.DataFrame.from_csv('/Users/katya/MSc/ADS/GFP/amino_acid_genotypes_to_brightness.tsv', sep = '\\t', index_col=None)"
   ]
  },
  {
   "cell_type": "code",
   "execution_count": 176,
   "metadata": {
    "collapsed": false
   },
   "outputs": [],
   "source": [
    "def fitness_distribution(df):\n",
    "    hist, edges = np.histogram(df.brightness, density=False, bins=41)\n",
    "    p = figure(width = 700, height = 500, title = 'Fitness distribution')\n",
    "    p.quad(top=hist, bottom=0, left=edges[:-1], right=edges[1:],\n",
    "            fill_color=\"#FF5656\", line_color=\"#033649\", alpha = 0.7)\n",
    "    p.xaxis.axis_label = 'Fitness'\n",
    "    script, div = components(p)\n",
    "    return str(script),str(div)"
   ]
  },
  {
   "cell_type": "markdown",
   "metadata": {},
   "source": [
    "# Mutations distribution in the protein sequence"
   ]
  },
  {
   "cell_type": "code",
   "execution_count": 177,
   "metadata": {
    "collapsed": true
   },
   "outputs": [],
   "source": [
    "def mutations_distribution(df, unique_mutations):\n",
    "    positions = [int(m[2:-1]) for m in unique_mutations if m != '']\n",
    "    hist, edges = np.histogram(positions, density=False, bins=max(positions))\n",
    "    p = figure(width = 900, height = 300, title = 'Mutations distribution')\n",
    "    p.quad(top = hist, bottom=0, left=edges[:-1], right=edges[1:],\n",
    "            fill_color=\"#1C7293\", line_color=\"#033649\", alpha = 0.5)\n",
    "    p.xaxis.axis_label = 'Position number'\n",
    "    p.yaxis.axis_label = 'Number of mutations'\n",
    "    script, div = components(p)\n",
    "    return str(script),str(div)"
   ]
  },
  {
   "cell_type": "markdown",
   "metadata": {},
   "source": [
    "# Aminoacid switches"
   ]
  },
  {
   "cell_type": "code",
   "execution_count": 178,
   "metadata": {
    "collapsed": true
   },
   "outputs": [],
   "source": [
    "def switch_analysis(df, unique_mutations):\n",
    "    aas = list(\"ACDEFGHIKLMNPQRSTVWYX*\")\n",
    "    aa2aa = pd.DataFrame(columns = aas, index = aas).fillna(0)\n",
    "    for m in unique_mutations:\n",
    "        aa2aa[m[-1]].ix[m[1]] += 1\n",
    "    aa2aa = aa2aa.stack().reset_index()\n",
    "    aa2aa.columns = ['From','To','num']\n",
    "    p = HeatMap(data = aa2aa, x = 'To', y = 'From', values = 'num', stat = None,  legend=False, title = 'Aminoacid switches')\n",
    "    script, div = components(p)\n",
    "    return str(script),str(div)"
   ]
  },
  {
   "cell_type": "markdown",
   "metadata": {},
   "source": [
    "# Number of unique mutations in different types of mutants"
   ]
  },
  {
   "cell_type": "code",
   "execution_count": 179,
   "metadata": {
    "collapsed": true
   },
   "outputs": [],
   "source": [
    "def mut_distribution(df):\n",
    "    uniques = []\n",
    "    for i in range(max(aa.mut_number)):\n",
    "        subset = aa[aa.mut_number == i]\n",
    "        uniques.append(len(set(':'.join(subset.mutations.values).split(':'))))\n",
    "    p = figure(width = 900, height = 500, title = 'Mutations distribution', tools = [HoverTool(),'box_zoom,box_select,crosshair,resize,reset'])\n",
    "    p.line([x for x in range(max(df.mut_number))], uniques)\n",
    "    p.circle([x for x in range(max(df.mut_number))], uniques)\n",
    "    p.xaxis.axis_label = 'Mutant type'\n",
    "    p.yaxis.axis_label = 'Number of unique mutations'\n",
    "    script, div = components(p)\n",
    "    return str(script),str(div)"
   ]
  },
  {
   "cell_type": "markdown",
   "metadata": {},
   "source": [
    "# Brightness distribution among singles/double/triplets, etc"
   ]
  },
  {
   "cell_type": "code",
   "execution_count": 180,
   "metadata": {
    "collapsed": true
   },
   "outputs": [],
   "source": [
    "def violin(df):\n",
    "    import matplotlib.gridspec as gridspec\n",
    "    fig = plt.figure(figsize = [5,5])\n",
    "    ax = {}\n",
    "    gs1 = gridspec.GridSpec(4, 4)\n",
    "    for num in range(1, 17):\n",
    "        sns.set_style(\"whitegrid\")\n",
    "        ax[num] = fig.add_subplot(gs1[num-1])\n",
    "        sns.violinplot(df.brightness[df.mut_number == num], linewidth = .5, color = '#57D1C9', orient = 'v', ax = ax[num])\n",
    "        plt.xlabel('Number of mutations = %d' % num)\n",
    "        plt.ylabel('Fitness', )\n",
    "        plt.ylim(0,5)\n",
    "    plt.subplots_adjust(left=None, bottom=None, right=1.8, top=1, wspace=None, hspace=None)\n",
    "    script, div =  components(mpl.to_bokeh())\n",
    "    return str(script),str(div)"
   ]
  },
  {
   "cell_type": "markdown",
   "metadata": {},
   "source": [
    "# All plots together"
   ]
  },
  {
   "cell_type": "code",
   "execution_count": 181,
   "metadata": {
    "collapsed": true
   },
   "outputs": [],
   "source": [
    "def result(df):\n",
    "    unique_mutations = extract_unique_mutations(df)\n",
    "    fitness_distribution(df)\n",
    "    mutations_distribution(df, unique_mutations)\n",
    "    switch_analysis(df, unique_mutations)\n",
    "    mut_distribution(df)\n",
    "    violin(aa)"
   ]
  },
  {
   "cell_type": "code",
   "execution_count": 182,
   "metadata": {
    "collapsed": false,
    "scrolled": false
   },
   "outputs": [],
   "source": [
    "result(aa)"
   ]
  },
  {
   "cell_type": "markdown",
   "metadata": {},
   "source": [
    "# All plots in one function"
   ]
  },
  {
   "cell_type": "code",
   "execution_count": null,
   "metadata": {
    "collapsed": true
   },
   "outputs": [],
   "source": [
    "def result(infile):\n",
    "    df = ...\n",
    "    \n",
    "    unique_mutations = extract_unique_mutations(df)    \n",
    "    \n",
    "    # barcodes distribution\n",
    "    hist, edges = np.histogram(df.brightness, density=False, bins=41)\n",
    "    s1 = figure(width = 700, height = 500, title = 'Fitness distribution')\n",
    "    s1.quad(top=hist, bottom=0, left=edges[:-1], right=edges[1:],\n",
    "            fill_color=\"#FF5656\", line_color=\"#033649\", alpha = 0.7)\n",
    "    s1.xaxis.axis_label = 'Fitness'\n",
    "    \n",
    "    # mutation distribution\n",
    "    positions = [int(m[2:-1]) for m in unique_mutations if m != '']\n",
    "    hist, edges = np.histogram(positions, density=False, bins=max(positions))\n",
    "    s2 = figure(width = 900, height = 300, title = 'Mutations distribution')\n",
    "    s2.quad(top = hist, bottom=0, left=edges[:-1], right=edges[1:],\n",
    "            fill_color=\"#1C7293\", line_color=\"#033649\", alpha = 0.5)\n",
    "    s2.xaxis.axis_label = 'Position number'\n",
    "    s2.yaxis.axis_label = 'Number of mutations'\n",
    "    \n",
    "    # aminoacid switches\n",
    "    aas = list(\"ACDEFGHIKLMNPQRSTVWYX*\")\n",
    "    aa2aa = pd.DataFrame(columns = aas, index = aas).fillna(0)\n",
    "    for m in unique_mutations:\n",
    "        aa2aa[m[-1]].ix[m[1]] += 1\n",
    "    aa2aa = aa2aa.stack().reset_index()\n",
    "    aa2aa.columns = ['From','To','num']\n",
    "    s3 = HeatMap(data = aa2aa, x = 'To', y = 'From', values = 'num', stat = None,  legend=False, title = 'Aminoacid switches')\n",
    "\n",
    "    # Number of unique mutations in different types of mutants\n",
    "    uniques = []\n",
    "    for i in range(max(df.mut_number)):\n",
    "        subset = df[df.mut_number == i]\n",
    "        uniques.append(len(set(':'.join(subset.mutations.values).split(':'))))\n",
    "    s4 = figure(width = 900, height = 500, title = 'Mutations distribution', tools = [HoverTool(),'box_zoom,box_select,crosshair,resize,reset'])\n",
    "    s4.line([x for x in range(max(df.mut_number))], uniques)\n",
    "    s4.circle([x for x in range(max(df.mut_number))], uniques)\n",
    "    s4.xaxis.axis_label = 'Mutant type'\n",
    "    s4.yaxis.axis_label = 'Number of unique mutations'\n",
    "    \n",
    "    # Violin\n",
    "    fig = plt.figure(figsize = [5,5])\n",
    "    ax = {}\n",
    "    gs1 = gridspec.GridSpec(4, 4)\n",
    "    for num in range(1, 17):\n",
    "        sns.set_style(\"whitegrid\")\n",
    "        ax[num] = fig.add_subplot(gs1[num-1])\n",
    "        sns.violinplot(df.brightness[df.mut_number == num], linewidth = .5, color = '#57D1C9', orient = 'v', ax = ax[num])\n",
    "        plt.xlabel('Number of mutations = %d' % num)\n",
    "        plt.ylabel('Fitness', )\n",
    "        plt.ylim(0,5)\n",
    "    plt.subplots_adjust(left=None, bottom=None, right=1.8, top=1, wspace=None, hspace=None)\n",
    "    s5 = mpl.to_bokeh()\n",
    "    \n",
    "    p = vplot(s1, s2, s3, s4, s5)\n",
    "    script, div = components(p)\n",
    "    return str(script),str(div)"
   ]
  }
 ],
 "metadata": {
  "anaconda-cloud": {},
  "kernelspec": {
   "display_name": "Python [default]",
   "language": "python",
   "name": "python2"
  },
  "language_info": {
   "codemirror_mode": {
    "name": "ipython",
    "version": 2
   },
   "file_extension": ".py",
   "mimetype": "text/x-python",
   "name": "python",
   "nbconvert_exporter": "python",
   "pygments_lexer": "ipython2",
   "version": "2.7.12"
  }
 },
 "nbformat": 4,
 "nbformat_minor": 0
}
