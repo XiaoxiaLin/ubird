{
 "cells": [
  {
   "cell_type": "markdown",
   "metadata": {},
   "source": [
    "## Mutation-Based Data Matrix: Reshape data frame such that location and mutations are both represented in feature columns. Then store sparse matrix and target values into files"
   ]
  },
  {
   "cell_type": "code",
   "execution_count": 65,
   "metadata": {
    "collapsed": false
   },
   "outputs": [],
   "source": [
    "import numpy as np\n",
    "from scipy import sparse \n",
    "import pandas as pd \n",
    "import matplotlib.pyplot as plt\n",
    "from time import time\n",
    "#import seaborn as sns\n",
    "%matplotlib inline"
   ]
  },
  {
   "cell_type": "code",
   "execution_count": 186,
   "metadata": {
    "collapsed": false
   },
   "outputs": [
    {
     "data": {
      "text/html": [
       "<div>\n",
       "<table border=\"1\" class=\"dataframe\">\n",
       "  <thead>\n",
       "    <tr style=\"text-align: right;\">\n",
       "      <th></th>\n",
       "      <th>aaMutations</th>\n",
       "      <th>uniqueBarcodes</th>\n",
       "      <th>medianBrightness</th>\n",
       "      <th>std</th>\n",
       "    </tr>\n",
       "  </thead>\n",
       "  <tbody>\n",
       "    <tr>\n",
       "      <th>0</th>\n",
       "      <td>NaN</td>\n",
       "      <td>3645</td>\n",
       "      <td>3.719212</td>\n",
       "      <td>0.106992</td>\n",
       "    </tr>\n",
       "    <tr>\n",
       "      <th>1</th>\n",
       "      <td>SA108D</td>\n",
       "      <td>1</td>\n",
       "      <td>1.301030</td>\n",
       "      <td>NaN</td>\n",
       "    </tr>\n",
       "    <tr>\n",
       "      <th>2</th>\n",
       "      <td>SA108D:SN144D:SI186V:SM231T:SL234P</td>\n",
       "      <td>1</td>\n",
       "      <td>1.301031</td>\n",
       "      <td>NaN</td>\n",
       "    </tr>\n",
       "    <tr>\n",
       "      <th>3</th>\n",
       "      <td>SA108D:SY141N:SH146L:SE220G</td>\n",
       "      <td>1</td>\n",
       "      <td>1.301189</td>\n",
       "      <td>NaN</td>\n",
       "    </tr>\n",
       "    <tr>\n",
       "      <th>4</th>\n",
       "      <td>SA108G</td>\n",
       "      <td>2</td>\n",
       "      <td>3.708478</td>\n",
       "      <td>0.020613</td>\n",
       "    </tr>\n",
       "  </tbody>\n",
       "</table>\n",
       "</div>"
      ],
      "text/plain": [
       "                          aaMutations  uniqueBarcodes  medianBrightness  \\\n",
       "0                                 NaN            3645          3.719212   \n",
       "1                              SA108D               1          1.301030   \n",
       "2  SA108D:SN144D:SI186V:SM231T:SL234P               1          1.301031   \n",
       "3         SA108D:SY141N:SH146L:SE220G               1          1.301189   \n",
       "4                              SA108G               2          3.708478   \n",
       "\n",
       "        std  \n",
       "0  0.106992  \n",
       "1       NaN  \n",
       "2       NaN  \n",
       "3       NaN  \n",
       "4  0.020613  "
      ]
     },
     "execution_count": 186,
     "metadata": {},
     "output_type": "execute_result"
    }
   ],
   "source": [
    "# reading the raw date\n",
    "df = pd.read_csv('amino_acid_genotypes_to_brightness.tsv', sep = '\\t', engine = 'python')\n",
    "df.head()"
   ]
  },
  {
   "cell_type": "code",
   "execution_count": 210,
   "metadata": {
    "collapsed": false
   },
   "outputs": [
    {
     "name": "stdout",
     "output_type": "stream",
     "text": [
      "Target values saved correctly? True\n"
     ]
    }
   ],
   "source": [
    "# Extracting brightness values and storing them separately in file\n",
    "y = df[[\"medianBrightness\",\"std\"]].values\n",
    "\n",
    "# save the array using numpy function numpy.savez\n",
    "np.savez(\"target_values.npz\",Brightness = y[:,0],std = y[:,1] )\n",
    "\n",
    "# load the data using numpy.load and check the match \n",
    "loaded = np.load(\"target_values.npz\") \n",
    "y1,std1 = loaded[\"Brightness\"],loaded[\"std\"]\n",
    "\n",
    "print \"Target values saved correctly?\",np.isclose(y[:,0],y1).all() and np.isclose(y[:,1],std1,equal_nan=True).all()\n",
    "del y,y1,std1"
   ]
  },
  {
   "cell_type": "code",
   "execution_count": 205,
   "metadata": {
    "collapsed": false
   },
   "outputs": [
    {
     "name": "stdout",
     "output_type": "stream",
     "text": [
      "0                                         NaN\n",
      "1                                    [SA108D]\n",
      "2    [SA108D, SN144D, SI186V, SM231T, SL234P]\n",
      "3            [SA108D, SY141N, SH146L, SE220G]\n",
      "4                                    [SA108G]\n",
      "Name: aaMutations, dtype: object\n"
     ]
    }
   ],
   "source": [
    "#extract the column with aa mutations and split the mutations\n",
    "mutants_series = df.aaMutations.str.split(':')\n",
    "print mutants_series.head()"
   ]
  },
  {
   "cell_type": "code",
   "execution_count": 206,
   "metadata": {
    "collapsed": false
   },
   "outputs": [
    {
     "name": "stdout",
     "output_type": "stream",
     "text": [
      "Number of mutants is: 54025\n",
      "\n",
      "Number of unique mutations is: 1879\n",
      "\n",
      "Examples of using mutants and mutations \n",
      "Mutant 5 has given mutations:['SA108G', 'SK138M', 'SR166C', 'SL234P']\n",
      "\n",
      "Mutations SA108D is found in given mutants:[1, 2, 3, 3712, 4606, 7079, 9720, 12011, 24277, 25058, 26099, 28167, 29264, 33503, 48490, 50537]\n"
     ]
    }
   ],
   "source": [
    "# create a list of mutants and lookup table of all unique mutations\n",
    "mutants = mutants_series.tolist()\n",
    "mutants[0] = [] #mutant 0 is the base case and has no mutations \n",
    "\n",
    "m = len(mutants)\n",
    "print \"Number of mutants is: %s\\n\"%m\n",
    "\n",
    "mutations = {}\n",
    "\n",
    "m_count = 0\n",
    "for mutant in xrange(m):\n",
    "    for mutation in mutants[mutant]:\n",
    "        if mutation not in mutations:\n",
    "            mutations[mutation] = {\"id\":m_count,\"mutants\":[mutant]}\n",
    "            m_count += 1\n",
    "        else:\n",
    "            mutations[mutation][\"mutants\"].append(mutant)\n",
    "n = len(mutations.keys())\n",
    "print \"Number of unique mutations is: %s\\n\"%n\n",
    "\n",
    "print \"Examples of using mutants and mutations \"\n",
    "print \"Mutant %s has given mutations:%s\\n\"%(5,mutants[5])\n",
    "\n",
    "print \"Mutations %s is found in given mutants:%s\"%(\"SA108D\",mutations[\"SA108D\"][\"mutants\"])\n",
    "\n",
    "#mutation_df = pd.DataFrame.from_dict(mta_dic, orient='index')\n",
    "#mutation_df.head()"
   ]
  },
  {
   "cell_type": "code",
   "execution_count": 207,
   "metadata": {
    "collapsed": false
   },
   "outputs": [
    {
     "name": "stdout",
     "output_type": "stream",
     "text": [
      "Creating csr sparse matrix took 0.422143 seconds.\n",
      "\n"
     ]
    },
    {
     "data": {
      "text/plain": [
       "<54025x1879 sparse matrix of type '<type 'numpy.int8'>'\n",
       "\twith 212388 stored elements in Compressed Sparse Row format>"
      ]
     },
     "execution_count": 207,
     "metadata": {},
     "output_type": "execute_result"
    }
   ],
   "source": [
    "#creating the feature matrix in LIL format and converting it to CSR format\n",
    "categ_mat_lil = sparse.lil_matrix((m,n),dtype = np.int8)\n",
    "categ_mat_lil.rows.shape\n",
    "\n",
    "t1 = time()\n",
    "for i in xrange(1,m):\n",
    "    cols,data = zip(*[(mutations[mutation][\"id\"],1.) for mutation in mutants[i]])\n",
    "    categ_mat_lil.rows[i],categ_mat_lil.data[i] = list(cols),list(data)\n",
    "    \n",
    "categ_mat_csr = categ_mat_lil.tocsr()\n",
    "del categ_mat_lil\n",
    "print \"Creating csr sparse matrix took %f seconds.\\n\"%(time()-t1)\n",
    "\n",
    "categ_mat_csr"
   ]
  },
  {
   "cell_type": "code",
   "execution_count": 208,
   "metadata": {
    "collapsed": true
   },
   "outputs": [],
   "source": [
    "# function to save and load csr matrices to files\n",
    "def save_sparse_csr(filename,array):\n",
    "    np.savez(filename,data = array.data ,indices=array.indices,\n",
    "             indptr =array.indptr, shape=array.shape )\n",
    "\n",
    "def load_sparse_csr(filename):\n",
    "    loader = np.load(filename)\n",
    "    return sparse.csr_matrix((loader['data'], loader['indices'], loader['indptr']),\n",
    "                         shape = loader['shape'])"
   ]
  },
  {
   "cell_type": "code",
   "execution_count": 211,
   "metadata": {
    "collapsed": false
   },
   "outputs": [
    {
     "name": "stdout",
     "output_type": "stream",
     "text": [
      "Writting sparse matrix to file took 0.023666 seconds.\n"
     ]
    }
   ],
   "source": [
    "t1 = time()\n",
    "save_sparse_csr('sparse_csr',categ_mat_csr)\n",
    "print \"Writting sparse matrix to file took %f seconds.\"%(time()-t1)"
   ]
  },
  {
   "cell_type": "code",
   "execution_count": 215,
   "metadata": {
    "collapsed": false
   },
   "outputs": [
    {
     "data": {
      "text/plain": [
       "True"
      ]
     },
     "execution_count": 215,
     "metadata": {},
     "output_type": "execute_result"
    }
   ],
   "source": [
    "test = load_sparse_csr('sparse_csr.npz')\n",
    "test\n",
    "print np.isclose(test.data,categ_mat_csr.data).all()\n",
    "print np.isclose(test.indices,categ_mat_csr.indices).all()\n",
    "print np.isclose(test.d,categ_mat_csr.data).all()"
   ]
  },
  {
   "cell_type": "code",
   "execution_count": 169,
   "metadata": {
    "collapsed": false
   },
   "outputs": [
    {
     "data": {
      "image/png": "[encoded data removed]",
      "text/plain": [
       "<matplotlib.figure.Figure at 0x124e76150>"
      ]
     },
     "metadata": {},
     "output_type": "display_data"
    }
   ],
   "source": [
    "plt.figure()\n",
    "plt.hist(categ_mat_csr.sum(axis=1), bins=15)\n",
    "plt.show()"
   ]
  }
 ],
 "metadata": {
  "anaconda-cloud": {},
  "kernelspec": {
   "display_name": "Python [Root]",
   "language": "python",
   "name": "Python [Root]"
  },
  "language_info": {
   "codemirror_mode": {
    "name": "ipython",
    "version": 2
   },
   "file_extension": ".py",
   "mimetype": "text/x-python",
   "name": "python",
   "nbconvert_exporter": "python",
   "pygments_lexer": "ipython2",
   "version": "2.7.12"
  }
 },
 "nbformat": 4,
 "nbformat_minor": 1
}
